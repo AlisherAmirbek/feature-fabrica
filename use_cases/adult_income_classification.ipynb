{
 "cells": [
  {
   "cell_type": "code",
   "execution_count": null,
   "metadata": {
    "colab": {
     "base_uri": "https://localhost:8080/"
    },
    "id": "qwClWYhPKSEO",
    "outputId": "525d1278-4cf7-4f6e-a215-b29f762bb19e"
   },
   "outputs": [],
   "source": [
    "!pip install ucimlrepo"
   ]
  },
  {
   "cell_type": "code",
   "execution_count": null,
   "metadata": {
    "colab": {
     "base_uri": "https://localhost:8080/",
     "height": 981
    },
    "id": "BO_5ev_zKTyt",
    "outputId": "f78c5626-2271-4239-84c5-450ec575858d"
   },
   "outputs": [],
   "source": [
    "!pip install feature-fabrica --upgrade"
   ]
  },
  {
   "cell_type": "markdown",
   "metadata": {
    "id": "sV6q4Rq_cam5"
   },
   "source": [
    "# Import Packages"
   ]
  },
  {
   "cell_type": "code",
   "execution_count": null,
   "metadata": {
    "id": "5Lka_UWiLRoh"
   },
   "outputs": [],
   "source": [
    "import pandas as pd\n",
    "import numpy as np\n",
    "from ucimlrepo import fetch_ucirepo\n",
    "\n",
    "from sklearn.ensemble import RandomForestClassifier\n",
    "from sklearn.model_selection import train_test_split\n",
    "from sklearn.metrics import classification_report, confusion_matrix\n",
    "\n",
    "import matplotlib.pyplot as plt"
   ]
  },
  {
   "cell_type": "markdown",
   "metadata": {
    "id": "r8TshtFacdFM"
   },
   "source": [
    "# Load Data"
   ]
  },
  {
   "cell_type": "code",
   "execution_count": null,
   "metadata": {
    "colab": {
     "base_uri": "https://localhost:8080/"
    },
    "id": "-bziPoVPKWR-",
    "outputId": "3f286b89-2b6b-4ed1-c1a7-9f048ddeb89e"
   },
   "outputs": [],
   "source": [
    "# fetch dataset\n",
    "adult = fetch_ucirepo(id=2)\n",
    "\n",
    "# data (as pandas dataframes)\n",
    "X = adult.data.features\n",
    "y = adult.data.targets\n",
    "\n",
    "# metadata\n",
    "print(adult.metadata)\n",
    "\n",
    "# variable information\n",
    "print(adult.variables)\n"
   ]
  },
  {
   "cell_type": "code",
   "execution_count": null,
   "metadata": {
    "colab": {
     "base_uri": "https://localhost:8080/",
     "height": 206
    },
    "id": "BtU63N8AKgGg",
    "outputId": "928c96c5-ca80-48c2-9965-c1be2ced594a"
   },
   "outputs": [],
   "source": [
    "X.head()"
   ]
  },
  {
   "cell_type": "code",
   "execution_count": null,
   "metadata": {
    "colab": {
     "base_uri": "https://localhost:8080/"
    },
    "id": "W20fRxIaHEb9",
    "outputId": "e4493d1d-0c50-468e-f9a4-1c630a0dfa9e"
   },
   "outputs": [],
   "source": [
    "adult.metadata.keys()"
   ]
  },
  {
   "cell_type": "code",
   "execution_count": null,
   "metadata": {
    "colab": {
     "base_uri": "https://localhost:8080/",
     "height": 35
    },
    "id": "CrLdidOuHX2c",
    "outputId": "71572b58-ac6b-434a-be9c-35e789cc2f00"
   },
   "outputs": [],
   "source": [
    "adult.metadata.abstract"
   ]
  },
  {
   "cell_type": "code",
   "execution_count": null,
   "metadata": {
    "colab": {
     "base_uri": "https://localhost:8080/",
     "height": 520
    },
    "id": "DDc8P607HaBz",
    "outputId": "674bcdf9-74e3-4dc3-a9f9-cf8ab9ba3cb8"
   },
   "outputs": [],
   "source": [
    "adult.variables"
   ]
  },
  {
   "cell_type": "markdown",
   "metadata": {
    "id": "xqatQVYyckaJ"
   },
   "source": [
    "# Data Cleaning"
   ]
  },
  {
   "cell_type": "code",
   "execution_count": null,
   "metadata": {
    "colab": {
     "base_uri": "https://localhost:8080/"
    },
    "id": "QXsicsaXFVqj",
    "outputId": "d94a1af0-99cd-47b3-c737-a449c863b71a"
   },
   "outputs": [],
   "source": [
    "X.replace('?', pd.NA, inplace=True)"
   ]
  },
  {
   "cell_type": "code",
   "execution_count": null,
   "metadata": {
    "colab": {
     "base_uri": "https://localhost:8080/",
     "height": 523
    },
    "id": "0831DXbrVkns",
    "outputId": "50bdf97a-5dbb-44ea-e990-65dac4ee8d25"
   },
   "outputs": [],
   "source": [
    "X.dtypes"
   ]
  },
  {
   "cell_type": "code",
   "execution_count": null,
   "metadata": {
    "colab": {
     "base_uri": "https://localhost:8080/"
    },
    "id": "6c6Y57yjK9wn",
    "outputId": "2c9ca44d-760b-48e2-abe5-4a540d3f0935"
   },
   "outputs": [],
   "source": [
    "columns_with_missing =  ['workclass', 'occupation', 'native-country']\n",
    "for col in columns_with_missing:\n",
    "  print(f\"Percentage of values missing for column {col}: {X[col].isna().sum()/len(X)}\")"
   ]
  },
  {
   "cell_type": "code",
   "execution_count": null,
   "metadata": {
    "id": "8UD_FtByatc6"
   },
   "outputs": [],
   "source": [
    "missing_one_hot_df = X.isna().astype(int)[columns_with_missing]\n",
    "missing_one_hot_df.columns = [c + '_missing' for c in columns_with_missing]\n",
    "X = pd.concat([X, missing_one_hot_df], axis=1)"
   ]
  },
  {
   "cell_type": "code",
   "execution_count": null,
   "metadata": {
    "id": "fNvgzQkiOYoU"
   },
   "outputs": [],
   "source": [
    "# Fill missing values with mode (for categorical variables)\n",
    "for col in columns_with_missing:\n",
    "  X[col].fillna(X[col].mode()[0], inplace=True)"
   ]
  },
  {
   "cell_type": "code",
   "execution_count": null,
   "metadata": {
    "colab": {
     "base_uri": "https://localhost:8080/",
     "height": 310
    },
    "id": "SdMtp20-PQ0e",
    "outputId": "5a58cbff-0e1c-466b-c42f-6465ff3e3f94"
   },
   "outputs": [],
   "source": [
    "X.head()"
   ]
  },
  {
   "cell_type": "code",
   "execution_count": null,
   "metadata": {
    "id": "Tjh68cF4PafS"
   },
   "outputs": [],
   "source": [
    "df = pd.concat([X, y], axis=1)"
   ]
  },
  {
   "cell_type": "code",
   "execution_count": null,
   "metadata": {
    "colab": {
     "base_uri": "https://localhost:8080/",
     "height": 328
    },
    "id": "qr8Kl80UPkmv",
    "outputId": "3ada7bf6-dccd-4807-ca67-dfadc38cc119"
   },
   "outputs": [],
   "source": [
    "df.head()"
   ]
  },
  {
   "cell_type": "code",
   "execution_count": null,
   "metadata": {
    "colab": {
     "base_uri": "https://localhost:8080/",
     "height": 241
    },
    "id": "VVxPJLjMRrfb",
    "outputId": "2861af43-86b2-4aaa-d53f-e7bb71090f62"
   },
   "outputs": [],
   "source": [
    "# we need to get rid of \".\" in labels\n",
    "y.value_counts()"
   ]
  },
  {
   "cell_type": "markdown",
   "metadata": {
    "id": "H04Vq-bxcrgJ"
   },
   "source": [
    "# Visualizations"
   ]
  },
  {
   "cell_type": "code",
   "execution_count": null,
   "metadata": {
    "colab": {
     "base_uri": "https://localhost:8080/",
     "height": 1000
    },
    "id": "8RycH3uTA8P1",
    "outputId": "67e455fe-7346-4e69-a75a-5a5ea1297c86"
   },
   "outputs": [],
   "source": [
    "# data is imbalanced\n",
    "X.hist(figsize = (15, 10), bins= 60)"
   ]
  },
  {
   "cell_type": "code",
   "execution_count": null,
   "metadata": {
    "id": "XErwUrtBDch-"
   },
   "outputs": [],
   "source": [
    "def pieplot(df, column):\n",
    "    label = df[column].unique().tolist()\n",
    "    data = df[column].value_counts()\n",
    "    plt.figure(figsize = (5, 5))\n",
    "    plt.pie(data, labels = label, autopct = \"%.0f%%\")\n",
    "    plt.title(column)\n",
    "    plt.show()"
   ]
  },
  {
   "cell_type": "code",
   "execution_count": null,
   "metadata": {
    "colab": {
     "base_uri": "https://localhost:8080/",
     "height": 444
    },
    "id": "8CAz_CeQDdPS",
    "outputId": "be9c4725-d60d-46c6-a5d9-705645ef3cba"
   },
   "outputs": [],
   "source": [
    "pieplot(X, \"sex\")"
   ]
  },
  {
   "cell_type": "code",
   "execution_count": null,
   "metadata": {
    "colab": {
     "base_uri": "https://localhost:8080/",
     "height": 444
    },
    "id": "vqe6TZOlDh7-",
    "outputId": "6bc99f7e-908d-4866-82f1-e8814514f2d4"
   },
   "outputs": [],
   "source": [
    "pieplot(X, \"education\")"
   ]
  },
  {
   "cell_type": "code",
   "execution_count": null,
   "metadata": {
    "colab": {
     "base_uri": "https://localhost:8080/",
     "height": 444
    },
    "id": "mzJQ8jzGDq6g",
    "outputId": "b0bbbaec-5c4b-438b-e97e-75c77fce6924"
   },
   "outputs": [],
   "source": [
    "pieplot(X, \"race\")"
   ]
  },
  {
   "cell_type": "code",
   "execution_count": null,
   "metadata": {
    "colab": {
     "base_uri": "https://localhost:8080/",
     "height": 444
    },
    "id": "J5EV5qMQDtLZ",
    "outputId": "03dc667d-619b-4af1-c8e3-76ee122c7ca6"
   },
   "outputs": [],
   "source": [
    "pieplot(X, \"marital-status\")"
   ]
  },
  {
   "cell_type": "markdown",
   "metadata": {
    "id": "6R7dCjhPcwoF"
   },
   "source": [
    "# Baseline Model"
   ]
  },
  {
   "cell_type": "code",
   "execution_count": null,
   "metadata": {
    "id": "CB01grRKUUFj"
   },
   "outputs": [],
   "source": [
    "BASIC_FEATURE_DEFINITION = f\"\"\"\n",
    "# examples/basic_features.yaml\n",
    "age:\n",
    "  description: \"age\"\n",
    "  data_type: \"int32\"\n",
    "\n",
    "workclass:\n",
    "  description: \"Private, Self-emp-not-inc, Self-emp-inc, Federal-gov, Local-gov, State-gov, Without-pay, Never-worked.\"\n",
    "  data_type: \"int32\"\n",
    "  transformation:\n",
    "    one_hot:\n",
    "      _target_: feature_fabrica.transform.LabelEncode\n",
    "\n",
    "fnlwgt:\n",
    "  description: \"Final weight, which represents the number of people the observation is meant to represent.\"\n",
    "  data_type: \"int32\"\n",
    "\n",
    "education:\n",
    "  description: \"Bachelors, Some-college, 11th, HS-grad, Prof-school, Assoc-acdm, Assoc-voc, 9th, 7th-8th, 12th, Masters, 1st-4th, 10th, Doctorate, 5th-6th, Preschool.\"\n",
    "  data_type: \"int32\"\n",
    "  transformation:\n",
    "    one_hot:\n",
    "      _target_: feature_fabrica.transform.OneHotEncode\n",
    "\n",
    "education-num:\n",
    "  description: \"Numeric representation of education level.\"\n",
    "  data_type: \"int32\"\n",
    "\n",
    "marital-status:\n",
    "  description: \"Married-civ-spouse, Divorced, Never-married, Separated, Widowed, Married-spouse-absent, Married-AF-spouse.\"\n",
    "  data_type: \"int32\"\n",
    "  transformation:\n",
    "    one_hot:\n",
    "      _target_: feature_fabrica.transform.OneHotEncode\n",
    "\n",
    "occupation:\n",
    "  description: \"Tech-support, Craft-repair, Other-service, Sales, Exec-managerial, Prof-specialty, Handlers-cleaners, Machine-op-inspct, Adm-clerical, Farming-fishing, Transport-moving, Priv-house-serv, Protective-serv, Armed-Forces.\"\n",
    "  data_type: \"int32\"\n",
    "  transformation:\n",
    "    one_hot:\n",
    "      _target_: feature_fabrica.transform.OneHotEncode\n",
    "\n",
    "relationship:\n",
    "  description: \"Wife, Own-child, Husband, Not-in-family, Other-relative, Unmarried.\"\n",
    "  data_type: \"int32\"\n",
    "  transformation:\n",
    "    one_hot:\n",
    "      _target_: feature_fabrica.transform.OneHotEncode\n",
    "\n",
    "race:\n",
    "  description: \"White, Asian-Pac-Islander, Amer-Indian-Eskimo, Other, Black.\"\n",
    "  data_type: \"int32\"\n",
    "  transformation:\n",
    "    one_hot:\n",
    "      _target_: feature_fabrica.transform.OneHotEncode\n",
    "\n",
    "sex:\n",
    "  description: \"Female, Male.\"\n",
    "  data_type: \"int32\"\n",
    "  transformation:\n",
    "    label_encode:\n",
    "      _target_: feature_fabrica.transform.LabelEncode\n",
    "\n",
    "capital-gain:\n",
    "  description: \"Capital gains in dollars.\"\n",
    "  data_type: \"int32\"\n",
    "\n",
    "capital-loss:\n",
    "  description: \"Capital losses in dollars.\"\n",
    "  data_type: \"int32\"\n",
    "\n",
    "hours-per-week:\n",
    "  description: \"Hours worked per week.\"\n",
    "  data_type: \"int32\"\n",
    "\n",
    "native-country:\n",
    "  description: \"United-States, Cambodia, England, Puerto-Rico, Canada, Germany, Outlying-US(Guam-USVI-etc), India, Japan, Greece, South, China, Cuba, Iran, Honduras, Philippines, Italy, Poland, Jamaica, Vietnam, Mexico, etc.\"\n",
    "  data_type: \"int32\"\n",
    "  transformation:\n",
    "    one_hot:\n",
    "      _target_: feature_fabrica.transform.OneHotEncode\n",
    "\n",
    "income:\n",
    "  description: \"Income classification: >50K or <=50K.\"\n",
    "  data_type: \"int32\"\n",
    "  transformation:\n",
    "    strip:\n",
    "      _target_: feature_fabrica.transform.Strip\n",
    "      chars: '.'\n",
    "    label:\n",
    "      _target_: feature_fabrica.transform.LabelEncode\n",
    "      categories: [\"<=50K\", \">50K\"]\n",
    "\"\"\"\n"
   ]
  },
  {
   "cell_type": "code",
   "execution_count": null,
   "metadata": {
    "colab": {
     "base_uri": "https://localhost:8080/"
    },
    "id": "ic1DD8PRVlrg",
    "outputId": "5f4fb28b-9458-45b5-9450-40cf84e573c2"
   },
   "outputs": [],
   "source": [
    "import yaml\n",
    "\n",
    "# Convert the string to a Python dictionary\n",
    "feature_definition_dict = yaml.safe_load(BASIC_FEATURE_DEFINITION)\n",
    "\n",
    "# Specify the path where you want to save the YAML file\n",
    "yaml_file_path = 'basic_features.yaml'\n",
    "\n",
    "# Save the dictionary to a YAML file\n",
    "with open(yaml_file_path, 'w') as file:\n",
    "    yaml.dump(feature_definition_dict, file, default_flow_style=False, sort_keys=False)\n",
    "\n",
    "print(f\"YAML file saved as {yaml_file_path}\")\n"
   ]
  },
  {
   "cell_type": "code",
   "execution_count": null,
   "metadata": {
    "id": "7tv1FWT8cp4k"
   },
   "outputs": [],
   "source": [
    "df_dict = {\n",
    "    col: df[col].to_numpy(dtype=np.str_) if df[col].dtype == 'object' else df[col].to_numpy(dtype=np.int32)\n",
    "    for col in df.columns\n",
    "}"
   ]
  },
  {
   "cell_type": "code",
   "execution_count": null,
   "metadata": {
    "colab": {
     "base_uri": "https://localhost:8080/"
    },
    "id": "DiOhwg6mVv9M",
    "outputId": "085bf313-1057-48ff-b96b-dfdba225ddfa"
   },
   "outputs": [],
   "source": [
    "import numpy as np\n",
    "from feature_fabrica.core import FeatureManager\n",
    "\n",
    "feature_manager = FeatureManager(\n",
    "    config_path=\"./\", config_name=\"basic_features\"\n",
    ")\n",
    "results = feature_manager.compute_features(df_dict)"
   ]
  },
  {
   "cell_type": "code",
   "execution_count": null,
   "metadata": {
    "colab": {
     "base_uri": "https://localhost:8080/",
     "height": 100
    },
    "id": "JZ0Yy-8UelFX",
    "outputId": "2fc818ba-a80c-44cd-f126-71e21029e775"
   },
   "outputs": [],
   "source": [
    "feature_manager.get_visual_dependency_graph()"
   ]
  },
  {
   "cell_type": "code",
   "execution_count": null,
   "metadata": {
    "id": "kq_UD70c62Jx"
   },
   "outputs": [],
   "source": [
    "# Convert 2D arrays to a flat structure for DataFrame creation\n",
    "flattened_dict = {}\n",
    "for col, values in results.items():\n",
    "    if values.ndim == 2:\n",
    "        # Flatten 2D arrays and add column names for each feature\n",
    "        for i in range(values.shape[1]):\n",
    "            flattened_dict[f\"{col}_{sorted(list(X[col].unique()))[i]}\"] = values[:, i]\n",
    "    else:\n",
    "        # Keep 1D arrays as is\n",
    "        flattened_dict[col] = values\n",
    "\n",
    "# Create DataFrame from flattened dictionary\n",
    "df_processed = pd.DataFrame(flattened_dict)"
   ]
  },
  {
   "cell_type": "code",
   "execution_count": null,
   "metadata": {
    "colab": {
     "base_uri": "https://localhost:8080/",
     "height": 290
    },
    "id": "9zHNd8K4escn",
    "outputId": "1f01c25a-8e8d-4117-a862-c655b8bdbee5"
   },
   "outputs": [],
   "source": [
    "df_processed.head()"
   ]
  },
  {
   "cell_type": "code",
   "execution_count": null,
   "metadata": {
    "colab": {
     "base_uri": "https://localhost:8080/"
    },
    "id": "WqqpsN4UQBEB",
    "outputId": "c62675c7-fd4b-4264-88d3-6de84b7388e1"
   },
   "outputs": [],
   "source": [
    "y = df_processed['income']\n",
    "X = df_processed.drop(columns='income')\n",
    "# Ensure that X and y have the same number of samples\n",
    "print(f'Features shape: {X.shape}')\n",
    "print(f'Target shape: {y.shape}')\n",
    "# Split the data into training and testing sets\n",
    "X_train, X_test, y_train, y_test = train_test_split(X, y, test_size=0.2, random_state=42, stratify=y)"
   ]
  },
  {
   "cell_type": "code",
   "execution_count": null,
   "metadata": {
    "colab": {
     "base_uri": "https://localhost:8080/"
    },
    "id": "ZuwLZ9z8dBde",
    "outputId": "4eee6c12-f284-4fed-c036-268e2ed5b94a"
   },
   "outputs": [],
   "source": [
    "# Initialize and train the Random Forest classifier\n",
    "rf = RandomForestClassifier(n_estimators=100, random_state=42)\n",
    "rf.fit(X_train, y_train)\n",
    "\n",
    "# Predict on test data\n",
    "y_pred = rf.predict(X_test)\n",
    "\n",
    "# Print classification report\n",
    "print(classification_report(y_test, y_pred))"
   ]
  },
  {
   "cell_type": "code",
   "execution_count": null,
   "metadata": {
    "colab": {
     "base_uri": "https://localhost:8080/"
    },
    "id": "VPXHxmWOd_AQ",
    "outputId": "c234042c-ae3f-4a42-b8bb-4c6f5343df52"
   },
   "outputs": [],
   "source": [
    "confusion_matrix(y_test, y_pred)"
   ]
  },
  {
   "cell_type": "code",
   "execution_count": null,
   "metadata": {
    "colab": {
     "base_uri": "https://localhost:8080/"
    },
    "id": "X11yig29dHA-",
    "outputId": "94cee759-b176-4a1a-ea9f-42758aedd9cb"
   },
   "outputs": [],
   "source": [
    "# Get feature importances\n",
    "importances = rf.feature_importances_\n",
    "features = X.columns\n",
    "# Create a DataFrame for feature importances\n",
    "feature_importances = pd.DataFrame({\n",
    "    'feature': features,\n",
    "    'importance': importances\n",
    "}).sort_values(by='importance', ascending=False)\n",
    "\n",
    "# Print feature importances\n",
    "print(feature_importances)"
   ]
  },
  {
   "cell_type": "code",
   "execution_count": null,
   "metadata": {
    "colab": {
     "base_uri": "https://localhost:8080/",
     "height": 755
    },
    "id": "dcyzcHVJUK81",
    "outputId": "d744621c-f4a5-48ef-ea1f-78c898886c3c"
   },
   "outputs": [],
   "source": [
    "# Select top 10 important features\n",
    "top_10_features = feature_importances.head(10)\n",
    "\n",
    "# Print top 10 feature importances\n",
    "print(top_10_features)\n",
    "\n",
    "# Plot top 10 feature importances\n",
    "plt.figure(figsize=(10, 6))\n",
    "plt.barh(top_10_features['feature'], top_10_features['importance'], color='skyblue')\n",
    "plt.xlabel('Importance')\n",
    "plt.ylabel('Feature')\n",
    "plt.title('Top 10 Feature Importances from Random Forest')\n",
    "plt.gca().invert_yaxis()\n",
    "plt.show()"
   ]
  },
  {
   "cell_type": "markdown",
   "metadata": {
    "id": "zArcZATSgod9"
   },
   "source": [
    "# Let's cook some more features"
   ]
  },
  {
   "cell_type": "code",
   "execution_count": null,
   "metadata": {
    "id": "b1m9P8Ox_iOU"
   },
   "outputs": [],
   "source": [
    "EXTENDED_FEATURE_DEFINITION = f\"\"\"\n",
    "work_intensity:\n",
    "  description: \"This gives a rough estimate of the ratio of time worked per week relative to age. Younger individuals working more hours may indicate higher work intensity.\"\n",
    "  data_type: \"float32\"\n",
    "  dependencies: [age, hours-per-week]\n",
    "  transformation:\n",
    "    divide:\n",
    "      _target_: feature_fabrica.transform.DivideTransform\n",
    "      numerator: hours-per-week\n",
    "      denominator: age\n",
    "\n",
    "cap_gain_hours_week:\n",
    "  description: \"Highlights individuals with substantial capital gains who may work fewer hours but still achieve high income.\"\n",
    "  data_type: \"float32\"\n",
    "  dependencies: [capital-gain, hours-per-week]\n",
    "  transformation:\n",
    "    divide:\n",
    "      _target_: feature_fabrica.transform.DivideTransform\n",
    "      numerator: capital-gain\n",
    "      denominator: hours-per-week\n",
    "\n",
    "education_investment:\n",
    "  description: \"Helps identify individuals who have invested a higher proportion of their life in education, which might impact income levels.\"\n",
    "  data_type: \"float32\"\n",
    "  dependencies: [education-num, age]\n",
    "  transformation:\n",
    "    divide:\n",
    "      _target_: feature_fabrica.transform.DivideTransform\n",
    "      numerator: education-num\n",
    "      denominator: age\n",
    "\n",
    "cap_gain_adjusted:\n",
    "  description: \"This adjusted value provides a clearer picture of the actual financial gains from capital.\"\n",
    "  data_type: \"int32\"\n",
    "  dependencies: [capital-gain, capital-loss]\n",
    "  transformation:\n",
    "    subtract:\n",
    "      _target_: feature_fabrica.transform.SubtractReduce\n",
    "      iterable: [capital-gain, capital-loss]\n",
    "\n",
    "financial_gain_to_work_experience:\n",
    "  description: \"This gives ratio of the actual financial gains to the assumed years of work experience\"\n",
    "  data_type: \"float32\"\n",
    "  dependencies: [age, education-num, cap_gain_adjusted]\n",
    "  transformation:\n",
    "    subtract:\n",
    "      _target_: feature_fabrica.transform.SubtractReduce\n",
    "      iterable: [age, education-num]\n",
    "    divide:\n",
    "      _target_: feature_fabrica.transform.DivideTransform\n",
    "      numerator: cap_gain_adjusted\n",
    "\n",
    "total_cap_gain_workclass:\n",
    "  description: \"Mean capital gain per workclass.\"\n",
    "  data_type: \"float32\"\n",
    "  dependencies: [cap_gain_adjusted, workclass]\n",
    "  transformation:\n",
    "    import:\n",
    "      _target_: feature_fabrica.transform.FeatureImporter\n",
    "      feature: cap_gain_adjusted\n",
    "      transform_stage: subtract\n",
    "    group:\n",
    "      _target_: feature_fabrica.transform.GroupByReduce\n",
    "      key_feature: workclass\n",
    "      reduce_func: mean\n",
    "      axis: -1\n",
    "\n",
    "avg_education_investment_age:\n",
    "  description: \"Mean education ivestment per age.\"\n",
    "  data_type: \"float32\"\n",
    "  dependencies: [education_investment, age]\n",
    "  transformation:\n",
    "    import:\n",
    "      _target_: feature_fabrica.transform.FeatureImporter\n",
    "      feature: education_investment\n",
    "      transform_stage: divide\n",
    "    group:\n",
    "      _target_: feature_fabrica.transform.GroupByReduce\n",
    "      key_feature: age\n",
    "      reduce_func: mean\n",
    "      axis: -1\n",
    "\n",
    "education_investment_to_avg:\n",
    "  description: \"Ratio between person's education investment to the average of their age.\"\n",
    "  data_type: \"float32\"\n",
    "  dependencies: [education_investment, avg_education_investment_age]\n",
    "  transformation:\n",
    "    divide:\n",
    "      _target_: feature_fabrica.transform.DivideTransform\n",
    "      numerator: education_investment\n",
    "      denominator: avg_education_investment_age\n",
    "\"\"\""
   ]
  },
  {
   "cell_type": "code",
   "execution_count": null,
   "metadata": {
    "colab": {
     "base_uri": "https://localhost:8080/"
    },
    "id": "fK6cHxETCa2C",
    "outputId": "a9089fa4-b385-4151-e5d6-a5af4c199d69"
   },
   "outputs": [],
   "source": [
    "# let's reload our basic features\n",
    "basic_feature_definition_dict = yaml.safe_load(BASIC_FEATURE_DEFINITION)\n",
    "# load new features\n",
    "extended_feature_definition_dict = yaml.safe_load(EXTENDED_FEATURE_DEFINITION)\n",
    "# add them together\n",
    "feature_definition_dict = basic_feature_definition_dict | extended_feature_definition_dict\n",
    "\n",
    "# Specify the path where you want to save the YAML file\n",
    "yaml_file_path = 'extended_features.yaml'\n",
    "\n",
    "# Save the dictionary to a YAML file\n",
    "with open(yaml_file_path, 'w') as file:\n",
    "    yaml.dump(feature_definition_dict, file, default_flow_style=False, sort_keys=False)\n",
    "\n",
    "print(f\"YAML file saved as {yaml_file_path}\")\n"
   ]
  },
  {
   "cell_type": "code",
   "execution_count": null,
   "metadata": {
    "colab": {
     "base_uri": "https://localhost:8080/"
    },
    "id": "tg1_9ugJCotD",
    "outputId": "ce00fb84-90be-4445-dfee-fa7fb4cabea8"
   },
   "outputs": [],
   "source": [
    "feature_manager = FeatureManager(\n",
    "    config_path=\"./\", config_name=\"extended_features\"\n",
    ")\n",
    "results = feature_manager.compute_features(df_dict)"
   ]
  },
  {
   "cell_type": "code",
   "execution_count": null,
   "metadata": {
    "colab": {
     "base_uri": "https://localhost:8080/",
     "height": 484
    },
    "id": "7KtaaSwmCvR7",
    "outputId": "e8498a62-5d82-4158-c5ef-b0be44eba2bd"
   },
   "outputs": [],
   "source": [
    "feature_manager.get_visual_dependency_graph()"
   ]
  },
  {
   "cell_type": "code",
   "execution_count": null,
   "metadata": {
    "id": "Lq0o03BGHtmA"
   },
   "outputs": [],
   "source": [
    "# Convert 2D arrays to a flat structure for DataFrame creation\n",
    "flattened_dict = {}\n",
    "for col, values in results.items():\n",
    "    if values.ndim == 2:\n",
    "        # Flatten 2D arrays and add column names for each feature\n",
    "        for i in range(values.shape[1]):\n",
    "            flattened_dict[f\"{col}_{sorted(list(df[col].unique()))[i]}\"] = values[:, i]\n",
    "    else:\n",
    "        # Keep 1D arrays as is\n",
    "        flattened_dict[col] = values\n",
    "\n",
    "# Create DataFrame from flattened dictionary\n",
    "df_processed_extended = pd.DataFrame(flattened_dict)"
   ]
  },
  {
   "cell_type": "code",
   "execution_count": null,
   "metadata": {
    "colab": {
     "base_uri": "https://localhost:8080/",
     "height": 677
    },
    "id": "Q5jUsCDUh5aT",
    "outputId": "ea8a1300-cac9-4b01-ca0b-b6f9c4cacf1b"
   },
   "outputs": [],
   "source": [
    "# vibe check\n",
    "df_processed_extended[['capital-gain', 'capital-loss','total_cap_gain_workclass', 'avg_education_investment_age', 'education_investment', 'education_investment_to_avg', 'income']].head(20)"
   ]
  },
  {
   "cell_type": "code",
   "execution_count": null,
   "metadata": {
    "colab": {
     "base_uri": "https://localhost:8080/"
    },
    "id": "ft2silC1Hq3x",
    "outputId": "22e38fa0-9f02-49fc-b3ff-a31ad3df46a9"
   },
   "outputs": [],
   "source": [
    "y = df_processed_extended['income']\n",
    "X = df_processed_extended.drop(columns='income')\n",
    "# Ensure that X and y have the same number of samples\n",
    "print(f'Features shape: {X.shape}')\n",
    "print(f'Target shape: {y.shape}')\n",
    "# Split the data into training and testing sets\n",
    "X_train, X_test, y_train, y_test = train_test_split(X, y, test_size=0.2, random_state=42, stratify=y)"
   ]
  },
  {
   "cell_type": "code",
   "execution_count": null,
   "metadata": {
    "id": "n2HKmj9ZgUJn"
   },
   "outputs": [],
   "source": [
    "# Initialize and train the Random Forest classifier\n",
    "rf = RandomForestClassifier(n_estimators=100, random_state=42)\n",
    "rf.fit(X_train, y_train)\n",
    "\n",
    "# Predict on test data\n",
    "y_pred = rf.predict(X_test)"
   ]
  },
  {
   "cell_type": "markdown",
   "metadata": {
    "id": "kwejqRISBfpr"
   },
   "source": [
    "# We improved accuracy by 1%"
   ]
  },
  {
   "cell_type": "code",
   "execution_count": null,
   "metadata": {
    "colab": {
     "base_uri": "https://localhost:8080/"
    },
    "id": "WelKGYQsgY70",
    "outputId": "890f2716-b790-4ad6-bea4-683081ff3dde"
   },
   "outputs": [],
   "source": [
    "print(classification_report(y_test, y_pred))"
   ]
  },
  {
   "cell_type": "code",
   "execution_count": null,
   "metadata": {
    "colab": {
     "base_uri": "https://localhost:8080/"
    },
    "id": "ofGeSLzBga2Z",
    "outputId": "aabead5a-8c74-4bef-f957-abfba8358cd2"
   },
   "outputs": [],
   "source": [
    "confusion_matrix(y_test, y_pred)"
   ]
  },
  {
   "cell_type": "code",
   "execution_count": null,
   "metadata": {
    "colab": {
     "base_uri": "https://localhost:8080/"
    },
    "id": "yFz6HrI3ga9-",
    "outputId": "41e6448f-334a-4c6d-ef49-4155cc53e0fb"
   },
   "outputs": [],
   "source": [
    "# Get feature importances\n",
    "importances = rf.feature_importances_\n",
    "features = X.columns\n",
    "# Create a DataFrame for feature importances\n",
    "feature_importances = pd.DataFrame({\n",
    "    'feature': features,\n",
    "    'importance': importances\n",
    "}).sort_values(by='importance', ascending=False)\n",
    "\n",
    "# Print feature importances\n",
    "print(feature_importances)"
   ]
  },
  {
   "cell_type": "code",
   "execution_count": null,
   "metadata": {
    "colab": {
     "base_uri": "https://localhost:8080/",
     "height": 755
    },
    "id": "yLH6fSApIX31",
    "outputId": "785691c9-c326-4a08-916f-e0e7e9e2c406"
   },
   "outputs": [],
   "source": [
    "# Select top 10 important features\n",
    "top_10_features = feature_importances.head(10)\n",
    "\n",
    "# Print top 10 feature importances\n",
    "print(top_10_features)\n",
    "\n",
    "# Plot top 10 feature importances\n",
    "plt.figure(figsize=(10, 6))\n",
    "plt.barh(top_10_features['feature'], top_10_features['importance'], color='skyblue')\n",
    "plt.xlabel('Importance')\n",
    "plt.ylabel('Feature')\n",
    "plt.title('Top 10 Feature Importances from Random Forest')\n",
    "plt.gca().invert_yaxis()\n",
    "plt.show()"
   ]
  }
 ],
 "metadata": {
  "colab": {
   "provenance": []
  },
  "kernelspec": {
   "display_name": "Python 3",
   "name": "python3"
  },
  "language_info": {
   "name": "python"
  }
 },
 "nbformat": 4,
 "nbformat_minor": 0
}
